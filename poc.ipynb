{
 "cells": [
  {
   "cell_type": "code",
   "id": "initial_id",
   "metadata": {
    "collapsed": true,
    "ExecuteTime": {
     "end_time": "2025-07-01T14:10:35.715021Z",
     "start_time": "2025-07-01T14:10:35.710088Z"
    }
   },
   "source": [
    "previous_tasks = [\n",
    "    \"Compute the derivative of log(x^4)sin(x^3)\",\n",
    "    \"Compute the derivative of the logistic sigmoid 1 / (1 + exp(-x))\",\n",
    "    \"Compute the derivative of exp(-(x-b)^2/(2a^2))\",\n",
    "    \"Compute the 5 first Taylor polynomials of f(x) = sin(x) + cos(x) at x0 = 0\",\n",
    "    \"Compute the Jacobian of f(x1,x2) = sin(x1)cos(x2)\",\n",
    "    \"Compute the Jacobian of f(x,y) = x^Ty, where x,y in R^n\",\n",
    "    \"Compute the Jacobian of f(x) = x^Tx, where x in R^n\",\n",
    "    \"Differentiate with respect to t, f(t) = sin(log(t^Tt)), where t in R^n\",\n",
    "    \"Differentiate with respect to X, f(X) = tr(AXB), where A in R^(DxE), X in R^(ExF), B in R^(FxD). tr denotes trace.\",\n",
    "    \"Compute the derivative df/dx using the chain rule: f(x) = log(1 + x^Tx), x in R^n\",\n",
    "    \"Compute the derivative df/dx using the chain rule: f(x) = sin(Ax + b), A in R^(ExD), x in R^D, b in R^E\"\n",
    "]\n",
    "\n",
    "previous_tasks_str = \"\\n\".join(f\"{i+1}. {t}\" for i, t in enumerate(previous_tasks))\n",
    "\n",
    "PROMPT = f\"\"\"Give me the examples of the tasks similar to the ones I solved previously:\n",
    "\n",
    "{previous_tasks_str}\n",
    "\n",
    "\"\"\"\n",
    "\n",
    "print(PROMPT)"
   ],
   "outputs": [
    {
     "name": "stdout",
     "output_type": "stream",
     "text": [
      "Give me the examples of the tasks similar to the ones I solved previously:\n",
      "\n",
      "1. Compute the derivative of log(x^4)sin(x^3)\n",
      "2. Compute the derivative of the logistic sigmoid 1 / (1 + exp(-x))\n",
      "3. Compute the derivative of exp(-(x-b)^2/(2a^2))\n",
      "4. Compute the 5 first Taylor polynomials of f(x) = sin(x) + cos(x) at x0 = 0\n",
      "5. Compute the Jacobian of f(x1,x2) = sin(x1)cos(x2)\n",
      "6. Compute the Jacobian of f(x,y) = x^Ty, where x,y in R^n\n",
      "7. Compute the Jacobian of f(x) = x^Tx, where x in R^n\n",
      "8. Differentiate with respect to t, f(t) = sin(log(t^Tt)), where t in R^n\n",
      "9. Differentiate with respect to X, f(X) = tr(AXB), where A in R^(DxE), X in R^(ExF), B in R^(FxD). tr denotes trace.\n",
      "10. Compute the derivative df/dx using the chain rule: f(x) = log(1 + x^Tx), x in R^n\n",
      "11. Compute the derivative df/dx using the chain rule: f(x) = sin(Ax + b), A in R^(ExD), x in R^D, b in R^E\n",
      "\n",
      "\n"
     ]
    }
   ],
   "execution_count": 8
  },
  {
   "metadata": {
    "ExecuteTime": {
     "end_time": "2025-07-01T14:10:44.464582Z",
     "start_time": "2025-07-01T14:10:44.456223Z"
    }
   },
   "cell_type": "code",
   "source": [
    "import anthropic\n",
    "import os\n",
    "\n",
    "client = anthropic.Anthropic(api_key=os.getenv(\"CLAUDE_API_KEY\"))"
   ],
   "id": "103513fef3ed1fdf",
   "outputs": [],
   "execution_count": 9
  },
  {
   "metadata": {
    "ExecuteTime": {
     "end_time": "2025-07-01T14:12:43.444950Z",
     "start_time": "2025-07-01T14:12:29.143644Z"
    }
   },
   "cell_type": "code",
   "source": [
    "message = client.messages.create(\n",
    "    model=\"claude-sonnet-4-20250514\",\n",
    "    max_tokens=4096,\n",
    "    temperature=1,\n",
    "    system=\"You are a teacher finding the most interesting and fun problems for your student to practice relevant skills. The tasks should have relatively elegant solutions, so it is possible to do them on paper without using computer.\",\n",
    "    messages=[\n",
    "        {\n",
    "            \"role\": \"user\",\n",
    "            \"content\": [\n",
    "                {\n",
    "                    \"type\": \"text\",\n",
    "                    \"text\": PROMPT\n",
    "                }\n",
    "            ]\n",
    "        }\n",
    "    ]\n",
    ")"
   ],
   "id": "a559dccea2e589ee",
   "outputs": [],
   "execution_count": 14
  },
  {
   "metadata": {
    "ExecuteTime": {
     "end_time": "2025-07-01T14:12:49.202058Z",
     "start_time": "2025-07-01T14:12:49.198895Z"
    }
   },
   "cell_type": "code",
   "source": "print(message.content[0].text)",
   "id": "50bd1907878bd2b1",
   "outputs": [
    {
     "name": "stdout",
     "output_type": "stream",
     "text": [
      "Based on your previous work, I can see you're comfortable with derivatives, chain rule, multivariable calculus, and matrix calculus. Here are some similar challenging problems:\n",
      "\n",
      "## Single Variable Derivatives & Chain Rule\n",
      "1. Compute the derivative of $f(x) = \\log(\\sin(e^{x^2}))$\n",
      "2. Find $\\frac{d}{dx}[x^x \\cdot \\log(x)]$ (hint: use logarithmic differentiation)\n",
      "3. Compute the derivative of $f(x) = \\frac{e^{2x}}{1 + e^{2x}}$ (another sigmoid variant)\n",
      "\n",
      "## Taylor Series\n",
      "4. Find the first 4 terms of the Taylor series for $f(x) = e^x \\cos(x)$ around $x_0 = 0$\n",
      "5. Compute the Taylor polynomial of degree 3 for $f(x) = \\frac{1}{1-x}$ at $x_0 = 0$\n",
      "\n",
      "## Vector/Matrix Calculus\n",
      "6. Compute the gradient $\\nabla f$ where $f(\\mathbf{x}) = \\mathbf{x}^T A \\mathbf{x} + \\mathbf{b}^T \\mathbf{x}$, with $A \\in \\mathbb{R}^{n \\times n}$, $\\mathbf{x}, \\mathbf{b} \\in \\mathbb{R}^n$\n",
      "7. Find $\\frac{\\partial}{\\partial \\mathbf{x}} f(\\mathbf{x}) = \\|\\mathbf{x} - \\mathbf{a}\\|^2$ where $\\mathbf{x}, \\mathbf{a} \\in \\mathbb{R}^n$\n",
      "8. Compute $\\frac{\\partial}{\\partial X} \\text{tr}(X^T A X B)$ where $X \\in \\mathbb{R}^{m \\times n}$, $A \\in \\mathbb{R}^{m \\times m}$, $B \\in \\mathbb{R}^{n \\times n}$\n",
      "\n",
      "## Chain Rule Applications\n",
      "9. Differentiate $f(t) = \\exp(-\\mathbf{t}^T A \\mathbf{t})$ with respect to $\\mathbf{t}$, where $A$ is symmetric\n",
      "10. Find $\\frac{d}{dt} g(t) = \\log(\\mathbf{u}(t)^T \\mathbf{v}(t))$ where $\\mathbf{u}(t), \\mathbf{v}(t) \\in \\mathbb{R}^n$\n",
      "11. Compute $\\frac{\\partial}{\\partial X} f(X) = \\log(\\det(X))$ where $X$ is an invertible matrix\n",
      "\n",
      "These problems maintain the same level of complexity and mathematical elegance as your previous work, involving clean applications of calculus rules with beautiful closed-form solutions.\n"
     ]
    }
   ],
   "execution_count": 15
  },
  {
   "metadata": {},
   "cell_type": "code",
   "outputs": [],
   "execution_count": null,
   "source": "",
   "id": "a74ddf0d0d6934d9"
  }
 ],
 "metadata": {
  "kernelspec": {
   "display_name": "Python 3",
   "language": "python",
   "name": "python3"
  },
  "language_info": {
   "codemirror_mode": {
    "name": "ipython",
    "version": 2
   },
   "file_extension": ".py",
   "mimetype": "text/x-python",
   "name": "python",
   "nbconvert_exporter": "python",
   "pygments_lexer": "ipython2",
   "version": "2.7.6"
  }
 },
 "nbformat": 4,
 "nbformat_minor": 5
}
